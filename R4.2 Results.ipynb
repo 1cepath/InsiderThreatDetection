{
 "cells": [
  {
   "cell_type": "code",
   "execution_count": 2,
   "metadata": {
    "collapsed": false
   },
   "outputs": [
    {
     "data": {
      "text/html": [
       "\n",
       "    <div class=\"bk-banner\">\n",
       "        <a href=\"http://bokeh.pydata.org\" target=\"_blank\" class=\"bk-logo bk-logo-small bk-logo-notebook\"></a>\n",
       "        <span id=\"5dc15f22-9ceb-42bb-9dad-36599681352e\">Loading BokehJS ...</span>\n",
       "    </div>"
      ]
     },
     "metadata": {},
     "output_type": "display_data"
    },
    {
     "data": {
      "application/javascript": [
       "\n",
       "(function(global) {\n",
       "  function now() {\n",
       "    return new Date();\n",
       "  }\n",
       "\n",
       "  if (typeof (window._bokeh_onload_callbacks) === \"undefined\") {\n",
       "    window._bokeh_onload_callbacks = [];\n",
       "  }\n",
       "\n",
       "  function run_callbacks() {\n",
       "    window._bokeh_onload_callbacks.forEach(function(callback) { callback() });\n",
       "    delete window._bokeh_onload_callbacks\n",
       "    console.info(\"Bokeh: all callbacks have finished\");\n",
       "  }\n",
       "\n",
       "  function load_libs(js_urls, callback) {\n",
       "    window._bokeh_onload_callbacks.push(callback);\n",
       "    if (window._bokeh_is_loading > 0) {\n",
       "      console.log(\"Bokeh: BokehJS is being loaded, scheduling callback at\", now());\n",
       "      return null;\n",
       "    }\n",
       "    if (js_urls == null || js_urls.length === 0) {\n",
       "      run_callbacks();\n",
       "      return null;\n",
       "    }\n",
       "    console.log(\"Bokeh: BokehJS not loaded, scheduling load and callback at\", now());\n",
       "    window._bokeh_is_loading = js_urls.length;\n",
       "    for (var i = 0; i < js_urls.length; i++) {\n",
       "      var url = js_urls[i];\n",
       "      var s = document.createElement('script');\n",
       "      s.src = url;\n",
       "      s.async = false;\n",
       "      s.onreadystatechange = s.onload = function() {\n",
       "        window._bokeh_is_loading--;\n",
       "        if (window._bokeh_is_loading === 0) {\n",
       "          console.log(\"Bokeh: all BokehJS libraries loaded\");\n",
       "          run_callbacks()\n",
       "        }\n",
       "      };\n",
       "      s.onerror = function() {\n",
       "        console.warn(\"failed to load library \" + url);\n",
       "      };\n",
       "      console.log(\"Bokeh: injecting script tag for BokehJS library: \", url);\n",
       "      document.getElementsByTagName(\"head\")[0].appendChild(s);\n",
       "    }\n",
       "  };\n",
       "\n",
       "  var js_urls = ['https://cdn.pydata.org/bokeh/release/bokeh-0.11.1.min.js', 'https://cdn.pydata.org/bokeh/release/bokeh-widgets-0.11.1.min.js', 'https://cdn.pydata.org/bokeh/release/bokeh-compiler-0.11.1.min.js'];\n",
       "\n",
       "  var inline_js = [\n",
       "    function(Bokeh) {\n",
       "      Bokeh.set_log_level(\"info\");\n",
       "    },\n",
       "    \n",
       "    function(Bokeh) {\n",
       "      Bokeh.$(\"#5dc15f22-9ceb-42bb-9dad-36599681352e\").text(\"BokehJS successfully loaded\");\n",
       "    },\n",
       "    function(Bokeh) {\n",
       "      console.log(\"Bokeh: injecting CSS: https://cdn.pydata.org/bokeh/release/bokeh-0.11.1.min.css\");\n",
       "      Bokeh.embed.inject_css(\"https://cdn.pydata.org/bokeh/release/bokeh-0.11.1.min.css\");\n",
       "      console.log(\"Bokeh: injecting CSS: https://cdn.pydata.org/bokeh/release/bokeh-widgets-0.11.1.min.css\");\n",
       "      Bokeh.embed.inject_css(\"https://cdn.pydata.org/bokeh/release/bokeh-widgets-0.11.1.min.css\");\n",
       "    }\n",
       "  ];\n",
       "\n",
       "  function run_inline_js() {\n",
       "    for (var i = 0; i < inline_js.length; i++) {\n",
       "      inline_js[i](window.Bokeh);\n",
       "    }\n",
       "  }\n",
       "\n",
       "  if (window._bokeh_is_loading === 0) {\n",
       "    console.log(\"Bokeh: BokehJS loaded, going straight to plotting\");\n",
       "    run_inline_js();\n",
       "  } else {\n",
       "    load_libs(js_urls, function() {\n",
       "      console.log(\"Bokeh: BokehJS plotting callback run at\", now());\n",
       "      run_inline_js();\n",
       "    });\n",
       "  }\n",
       "}(this));"
      ]
     },
     "metadata": {},
     "output_type": "display_data"
    }
   ],
   "source": [
    "from bokeh.plotting import figure, show\n",
    "from bokeh.io import output_notebook\n",
    "\n",
    "output_notebook()\n",
    "\n",
    "import json"
   ]
  },
  {
   "cell_type": "code",
   "execution_count": 3,
   "metadata": {
    "collapsed": false
   },
   "outputs": [],
   "source": [
    "userScores_simple = json.load(open(\"userScores_simple_r42_50_inertia.json\"))\n",
    "# userScores = json.load(open(\"userScores.json\"))"
   ]
  },
  {
   "cell_type": "code",
   "execution_count": 4,
   "metadata": {
    "collapsed": true
   },
   "outputs": [],
   "source": [
    "insiders = [\"AAM0658\", \"AJR0932\", \"BDV0168\", \"BIH0745\", \"BLS0678\", \"BTL0226\", \"CAH0936\", \"DCH0843\", \"EHB0824\", \"EHD0584\", \"FMG0527\", \"FTM0406\", \"GHL0460\", \"HJB0742\", \"JMB0308\", \"JRG0207\", \"KLH0596\", \"KPC0073\", \"LJR0523\", \"LQC0479\", \"MAR0955\", \"MAS0025\", \"MCF0600\", \"MYD0978\", \"PPF0435\", \"RAB0589\", \"RGG0064\", \"RKD0604\", \"TAP0551\", \"WDD0366\", \"AAF0535\", \"ABC0174\", \"AKR0057\", \"CCL0068\", \"CEJ0109\", \"CQW0652\", \"DIB0285\", \"DRR0162\", \"EDB0714\", \"EGD0132\", \"FSC0601\", \"HBO0413\", \"HXL0968\", \"IJM0776\", \"IKR0401\", \"IUB0565\", \"JJM0203\", \"KRL0501\", \"LCC0819\", \"MDH0580\", \"MOS0047\", \"NWT0098\", \"PNL0301\", \"PSF0133\", \"RAR0725\", \"RHL0992\", \"RMW0542\", \"TNM0961\", \"VSS0154\", \"XHW0498\", \"BBS0039\", \"BSS0369\", \"CCA0046\", \"CSC0217\", \"GTD0219\", \"JGT0221\", \"JLM0364\", \"JTM0223\", \"MPM0220\", \"MSO0222\"]\n",
    "\n",
    "def getRocPoints(userScores):\n",
    "    rocPoints = []\n",
    "\n",
    "    users = userScores.keys()\n",
    "\n",
    "    for T in range(0,10000,10):\n",
    "        anomUsers = set()\n",
    "        for user in users:\n",
    "            for weekScore in userScores[user]:\n",
    "                if weekScore > T :\n",
    "                    anomUsers.add(user)\n",
    "\n",
    "        if len(anomUsers) == 0:\n",
    "            break\n",
    "\n",
    "        insiders_caught = 0\n",
    "        for insider in insiders:\n",
    "            if insider in anomUsers:\n",
    "                insiders_caught += 1\n",
    "\n",
    "        true_positive = insiders_caught/len(insiders)\n",
    "        false_positive = (len(anomUsers)-insiders_caught)/len(users)\n",
    "        rocPoints.append( (false_positive, true_positive) )\n",
    "        \n",
    "    # why is everything an iterator...\n",
    "    return list(reversed(rocPoints))"
   ]
  },
  {
   "cell_type": "code",
   "execution_count": 5,
   "metadata": {
    "collapsed": true
   },
   "outputs": [],
   "source": [
    "def getAUC(rocPoints):\n",
    "    auc = 0\n",
    "    prev = (0,0)\n",
    "    for x in rocPoints:\n",
    "        auc += (x[0]-prev[0])*(prev[1]+x[1])/2\n",
    "        prev = x\n",
    "    return auc"
   ]
  },
  {
   "cell_type": "code",
   "execution_count": 6,
   "metadata": {
    "collapsed": false
   },
   "outputs": [
    {
     "name": "stdout",
     "output_type": "stream",
     "text": [
      "  Simple features AUC:  0.7813142857142857\n"
     ]
    },
    {
     "data": {
      "text/html": [
       "\n",
       "\n",
       "    <div class=\"plotdiv\" id=\"9d4d88cd-eb49-4d94-b032-d660f5a8403c\"></div>\n",
       "<script type=\"text/javascript\">\n",
       "  \n",
       "  (function(global) {\n",
       "    function now() {\n",
       "      return new Date();\n",
       "    }\n",
       "  \n",
       "    if (typeof (window._bokeh_onload_callbacks) === \"undefined\") {\n",
       "      window._bokeh_onload_callbacks = [];\n",
       "    }\n",
       "  \n",
       "    function run_callbacks() {\n",
       "      window._bokeh_onload_callbacks.forEach(function(callback) { callback() });\n",
       "      delete window._bokeh_onload_callbacks\n",
       "      console.info(\"Bokeh: all callbacks have finished\");\n",
       "    }\n",
       "  \n",
       "    function load_libs(js_urls, callback) {\n",
       "      window._bokeh_onload_callbacks.push(callback);\n",
       "      if (window._bokeh_is_loading > 0) {\n",
       "        console.log(\"Bokeh: BokehJS is being loaded, scheduling callback at\", now());\n",
       "        return null;\n",
       "      }\n",
       "      if (js_urls == null || js_urls.length === 0) {\n",
       "        run_callbacks();\n",
       "        return null;\n",
       "      }\n",
       "      console.log(\"Bokeh: BokehJS not loaded, scheduling load and callback at\", now());\n",
       "      window._bokeh_is_loading = js_urls.length;\n",
       "      for (var i = 0; i < js_urls.length; i++) {\n",
       "        var url = js_urls[i];\n",
       "        var s = document.createElement('script');\n",
       "        s.src = url;\n",
       "        s.async = false;\n",
       "        s.onreadystatechange = s.onload = function() {\n",
       "          window._bokeh_is_loading--;\n",
       "          if (window._bokeh_is_loading === 0) {\n",
       "            console.log(\"Bokeh: all BokehJS libraries loaded\");\n",
       "            run_callbacks()\n",
       "          }\n",
       "        };\n",
       "        s.onerror = function() {\n",
       "          console.warn(\"failed to load library \" + url);\n",
       "        };\n",
       "        console.log(\"Bokeh: injecting script tag for BokehJS library: \", url);\n",
       "        document.getElementsByTagName(\"head\")[0].appendChild(s);\n",
       "      }\n",
       "    };var element = document.getElementById(\"9d4d88cd-eb49-4d94-b032-d660f5a8403c\");\n",
       "    if (element == null) {\n",
       "      console.log(\"Bokeh: ERROR: autoload.js configured with elementid '9d4d88cd-eb49-4d94-b032-d660f5a8403c' but no matching script tag was found. \")\n",
       "      return false;\n",
       "    }\n",
       "  \n",
       "    var js_urls = [];\n",
       "  \n",
       "    var inline_js = [\n",
       "      function(Bokeh) {\n",
       "        Bokeh.$(function() {\n",
       "            var docs_json = {\"feb3119c-d180-4e2c-acd8-86bc09a734a2\":{\"roots\":{\"references\":[{\"attributes\":{\"plot\":{\"id\":\"f9e3e09a-b442-4f95-a37b-0bcc1c1972c7\",\"subtype\":\"Figure\",\"type\":\"Plot\"}},\"id\":\"5ec4d368-49e7-4a3b-833b-554dd544590d\",\"type\":\"PreviewSaveTool\"},{\"attributes\":{\"plot\":{\"id\":\"f9e3e09a-b442-4f95-a37b-0bcc1c1972c7\",\"subtype\":\"Figure\",\"type\":\"Plot\"}},\"id\":\"4013fe5b-0f8a-4447-8238-7d48df57a4ae\",\"type\":\"WheelZoomTool\"},{\"attributes\":{\"callback\":null},\"id\":\"7e670ae3-608b-45d1-9582-10fc595cb271\",\"type\":\"Range1d\"},{\"attributes\":{},\"id\":\"99363797-e947-4eff-87ab-0abcf0d4c7b3\",\"type\":\"ToolEvents\"},{\"attributes\":{\"plot\":{\"id\":\"f9e3e09a-b442-4f95-a37b-0bcc1c1972c7\",\"subtype\":\"Figure\",\"type\":\"Plot\"}},\"id\":\"0246a43f-6edb-45b2-b1fb-7ce67bf546e7\",\"type\":\"ResetTool\"},{\"attributes\":{\"callback\":null,\"end\":1.001},\"id\":\"e4955c60-8d3f-4052-abf6-3d083e9da21e\",\"type\":\"Range1d\"},{\"attributes\":{\"line_alpha\":{\"value\":0.1},\"line_color\":{\"value\":\"#1f77b4\"},\"x\":{\"field\":\"x\"},\"y\":{\"field\":\"y\"}},\"id\":\"fc465f2a-d3f6-42ae-bb7a-0cd3cc6f294d\",\"type\":\"Line\"},{\"attributes\":{\"overlay\":{\"id\":\"1105a5e9-f434-4303-8a66-792ee8559b8a\",\"type\":\"BoxAnnotation\"},\"plot\":{\"id\":\"f9e3e09a-b442-4f95-a37b-0bcc1c1972c7\",\"subtype\":\"Figure\",\"type\":\"Plot\"}},\"id\":\"657c78c9-5bd4-4cc4-892c-d5c3dc2f6909\",\"type\":\"BoxZoomTool\"},{\"attributes\":{\"x\":{\"field\":\"x\"},\"y\":{\"field\":\"y\"}},\"id\":\"508b17b8-1bb5-4d80-a485-1704c23857db\",\"type\":\"Line\"},{\"attributes\":{\"plot\":{\"id\":\"f9e3e09a-b442-4f95-a37b-0bcc1c1972c7\",\"subtype\":\"Figure\",\"type\":\"Plot\"}},\"id\":\"1506338e-a1af-40af-b0ea-3461fafa9c35\",\"type\":\"ResizeTool\"},{\"attributes\":{},\"id\":\"6b108e9a-7ed7-4f1d-82a9-0ce46b450cc5\",\"type\":\"BasicTickFormatter\"},{\"attributes\":{},\"id\":\"a2f28ef4-b1f2-48e3-a9b3-13b5e0f63c93\",\"type\":\"BasicTickFormatter\"},{\"attributes\":{\"legends\":[[\"Simple\",[{\"id\":\"996d233c-8a2b-42c5-8ffa-303d7eba1215\",\"type\":\"GlyphRenderer\"}]]],\"plot\":{\"id\":\"f9e3e09a-b442-4f95-a37b-0bcc1c1972c7\",\"subtype\":\"Figure\",\"type\":\"Plot\"}},\"id\":\"bde811e6-b01f-4ccd-82ef-f8baf9206008\",\"type\":\"Legend\"},{\"attributes\":{\"axis_label\":\"\\u03b1\",\"formatter\":{\"id\":\"6b108e9a-7ed7-4f1d-82a9-0ce46b450cc5\",\"type\":\"BasicTickFormatter\"},\"plot\":{\"id\":\"f9e3e09a-b442-4f95-a37b-0bcc1c1972c7\",\"subtype\":\"Figure\",\"type\":\"Plot\"},\"ticker\":{\"id\":\"635c5e42-4881-44ca-8adc-e72143e6fed0\",\"type\":\"BasicTicker\"}},\"id\":\"2b0f5e40-7e2a-49c3-b1b6-78ab2ca256cb\",\"type\":\"LinearAxis\"},{\"attributes\":{\"data_source\":{\"id\":\"5970fa61-f621-4745-85a1-e445bbac5def\",\"type\":\"ColumnDataSource\"},\"glyph\":{\"id\":\"508b17b8-1bb5-4d80-a485-1704c23857db\",\"type\":\"Line\"},\"hover_glyph\":null,\"nonselection_glyph\":{\"id\":\"e9249856-f09a-4315-9681-5ae722190c7e\",\"type\":\"Line\"},\"selection_glyph\":null},\"id\":\"8c4f42e0-8b36-4416-81aa-7e3834a409d8\",\"type\":\"GlyphRenderer\"},{\"attributes\":{\"axis_label\":\"1-\\u00df\",\"formatter\":{\"id\":\"a2f28ef4-b1f2-48e3-a9b3-13b5e0f63c93\",\"type\":\"BasicTickFormatter\"},\"plot\":{\"id\":\"f9e3e09a-b442-4f95-a37b-0bcc1c1972c7\",\"subtype\":\"Figure\",\"type\":\"Plot\"},\"ticker\":{\"id\":\"45137734-10a1-43d0-a87e-e63e827048cc\",\"type\":\"BasicTicker\"}},\"id\":\"261e6e64-0bef-44e5-bdec-d6f49e699907\",\"type\":\"LinearAxis\"},{\"attributes\":{\"dimension\":1,\"plot\":{\"id\":\"f9e3e09a-b442-4f95-a37b-0bcc1c1972c7\",\"subtype\":\"Figure\",\"type\":\"Plot\"},\"ticker\":{\"id\":\"45137734-10a1-43d0-a87e-e63e827048cc\",\"type\":\"BasicTicker\"}},\"id\":\"fb012b5f-e1e4-4a41-b479-22f6c8303589\",\"type\":\"Grid\"},{\"attributes\":{\"callback\":null,\"column_names\":[\"y\",\"x\"],\"data\":{\"x\":[0,1],\"y\":[0,1]}},\"id\":\"5970fa61-f621-4745-85a1-e445bbac5def\",\"type\":\"ColumnDataSource\"},{\"attributes\":{\"line_alpha\":{\"value\":0.1},\"line_color\":{\"value\":\"#1f77b4\"},\"x\":{\"field\":\"x\"},\"y\":{\"field\":\"y\"}},\"id\":\"e9249856-f09a-4315-9681-5ae722190c7e\",\"type\":\"Line\"},{\"attributes\":{\"plot\":{\"id\":\"f9e3e09a-b442-4f95-a37b-0bcc1c1972c7\",\"subtype\":\"Figure\",\"type\":\"Plot\"}},\"id\":\"3ab4fd7b-0252-4f4c-83ee-74a1a761a323\",\"type\":\"PanTool\"},{\"attributes\":{},\"id\":\"635c5e42-4881-44ca-8adc-e72143e6fed0\",\"type\":\"BasicTicker\"},{\"attributes\":{\"bottom_units\":\"screen\",\"fill_alpha\":{\"value\":0.5},\"fill_color\":{\"value\":\"lightgrey\"},\"left_units\":\"screen\",\"level\":\"overlay\",\"line_alpha\":{\"value\":1.0},\"line_color\":{\"value\":\"black\"},\"line_dash\":[4,4],\"line_width\":{\"value\":2},\"plot\":null,\"render_mode\":\"css\",\"right_units\":\"screen\",\"top_units\":\"screen\"},\"id\":\"1105a5e9-f434-4303-8a66-792ee8559b8a\",\"type\":\"BoxAnnotation\"},{\"attributes\":{\"plot\":{\"id\":\"f9e3e09a-b442-4f95-a37b-0bcc1c1972c7\",\"subtype\":\"Figure\",\"type\":\"Plot\"},\"ticker\":{\"id\":\"635c5e42-4881-44ca-8adc-e72143e6fed0\",\"type\":\"BasicTicker\"}},\"id\":\"a57f10d0-32aa-4ce4-a526-0252826f0b15\",\"type\":\"Grid\"},{\"attributes\":{\"line_color\":{\"value\":\"blue\"},\"x\":{\"field\":\"x\"},\"y\":{\"field\":\"y\"}},\"id\":\"8f381fc9-25c7-453a-9ee9-4e10d3893047\",\"type\":\"Line\"},{\"attributes\":{\"below\":[{\"id\":\"2b0f5e40-7e2a-49c3-b1b6-78ab2ca256cb\",\"type\":\"LinearAxis\"}],\"left\":[{\"id\":\"261e6e64-0bef-44e5-bdec-d6f49e699907\",\"type\":\"LinearAxis\"}],\"renderers\":[{\"id\":\"2b0f5e40-7e2a-49c3-b1b6-78ab2ca256cb\",\"type\":\"LinearAxis\"},{\"id\":\"a57f10d0-32aa-4ce4-a526-0252826f0b15\",\"type\":\"Grid\"},{\"id\":\"261e6e64-0bef-44e5-bdec-d6f49e699907\",\"type\":\"LinearAxis\"},{\"id\":\"fb012b5f-e1e4-4a41-b479-22f6c8303589\",\"type\":\"Grid\"},{\"id\":\"1105a5e9-f434-4303-8a66-792ee8559b8a\",\"type\":\"BoxAnnotation\"},{\"id\":\"8c4f42e0-8b36-4416-81aa-7e3834a409d8\",\"type\":\"GlyphRenderer\"},{\"id\":\"bde811e6-b01f-4ccd-82ef-f8baf9206008\",\"type\":\"Legend\"},{\"id\":\"996d233c-8a2b-42c5-8ffa-303d7eba1215\",\"type\":\"GlyphRenderer\"}],\"title\":\"ROC Curve for Dataset 4.2\",\"tool_events\":{\"id\":\"99363797-e947-4eff-87ab-0abcf0d4c7b3\",\"type\":\"ToolEvents\"},\"tools\":[{\"id\":\"3ab4fd7b-0252-4f4c-83ee-74a1a761a323\",\"type\":\"PanTool\"},{\"id\":\"4013fe5b-0f8a-4447-8238-7d48df57a4ae\",\"type\":\"WheelZoomTool\"},{\"id\":\"657c78c9-5bd4-4cc4-892c-d5c3dc2f6909\",\"type\":\"BoxZoomTool\"},{\"id\":\"5ec4d368-49e7-4a3b-833b-554dd544590d\",\"type\":\"PreviewSaveTool\"},{\"id\":\"1506338e-a1af-40af-b0ea-3461fafa9c35\",\"type\":\"ResizeTool\"},{\"id\":\"0246a43f-6edb-45b2-b1fb-7ce67bf546e7\",\"type\":\"ResetTool\"},{\"id\":\"0003e8b7-6d3f-4585-bdcc-2519031a4cea\",\"type\":\"HelpTool\"}],\"x_range\":{\"id\":\"7e670ae3-608b-45d1-9582-10fc595cb271\",\"type\":\"Range1d\"},\"y_range\":{\"id\":\"e4955c60-8d3f-4052-abf6-3d083e9da21e\",\"type\":\"Range1d\"}},\"id\":\"f9e3e09a-b442-4f95-a37b-0bcc1c1972c7\",\"subtype\":\"Figure\",\"type\":\"Plot\"},{\"attributes\":{\"data_source\":{\"id\":\"c62d8ab5-fa2c-476f-9a65-4b9ffb94202d\",\"type\":\"ColumnDataSource\"},\"glyph\":{\"id\":\"8f381fc9-25c7-453a-9ee9-4e10d3893047\",\"type\":\"Line\"},\"hover_glyph\":null,\"nonselection_glyph\":{\"id\":\"fc465f2a-d3f6-42ae-bb7a-0cd3cc6f294d\",\"type\":\"Line\"},\"selection_glyph\":null},\"id\":\"996d233c-8a2b-42c5-8ffa-303d7eba1215\",\"type\":\"GlyphRenderer\"},{\"attributes\":{\"plot\":{\"id\":\"f9e3e09a-b442-4f95-a37b-0bcc1c1972c7\",\"subtype\":\"Figure\",\"type\":\"Plot\"}},\"id\":\"0003e8b7-6d3f-4585-bdcc-2519031a4cea\",\"type\":\"HelpTool\"},{\"attributes\":{\"callback\":null,\"column_names\":[\"y\",\"x\"],\"data\":{\"x\":[0.0,0.0,0.0,0.0,0.0,0.0,0.0,0.0,0.0,0.0,0.0,0.0,0.0,0.0,0.0,0.0,0.0,0.0,0.0,0.0,0.0,0.0,0.0,0.0,0.0,0.0,0.0,0.0,0.0,0.0,0.0,0.0,0.0,0.0,0.0,0.0,0.0,0.0,0.0,0.0,0.0,0.0,0.0,0.0,0.0,0.0,0.0,0.0,0.0,0.0,0.0,0.0,0.0,0.0,0.0,0.0,0.0,0.0,0.0,0.0,0.0,0.0,0.0,0.0,0.0,0.0,0.0,0.0,0.0,0.0,0.0,0.0,0.0,0.0,0.0,0.0,0.0,0.0,0.0,0.0,0.0,0.0,0.0,0.0,0.0,0.0,0.0,0.0,0.0,0.0,0.0,0.0,0.0,0.0,0.0,0.0,0.0,0.0,0.0,0.0,0.0,0.0,0.0,0.0,0.0,0.0,0.0,0.0,0.0,0.0,0.0,0.0,0.0,0.0,0.0,0.0,0.0,0.0,0.0,0.0,0.0,0.0,0.0,0.0,0.0,0.0,0.0,0.0,0.0,0.0,0.0,0.0,0.0,0.0,0.0,0.0,0.0,0.0,0.0,0.0,0.0,0.0,0.0,0.0,0.001,0.001,0.001,0.001,0.001,0.001,0.001,0.001,0.001,0.001,0.001,0.001,0.002,0.002,0.002,0.002,0.002,0.002,0.002,0.002,0.002,0.002,0.002,0.002,0.002,0.002,0.002,0.002,0.002,0.002,0.004,0.004,0.004,0.004,0.004,0.004,0.004,0.006,0.006,0.006,0.007,0.007,0.007,0.007,0.008,0.008,0.009,0.01,0.012,0.012,0.013,0.014,0.014,0.015,0.016,0.016,0.017,0.017,0.018,0.018,0.018,0.018,0.02,0.022,0.024,0.025,0.026,0.028,0.029,0.031,0.033,0.035,0.039,0.04,0.042,0.045,0.053,0.053,0.06,0.062,0.065,0.067,0.069,0.072,0.078,0.086,0.09,0.094,0.099,0.106,0.122,0.127,0.136,0.141,0.155,0.162,0.172,0.185,0.204,0.211,0.229,0.258,0.285,0.313,0.343,0.364,0.386,0.409,0.442,0.482,0.527,0.557,0.602,0.648,0.651,0.656,0.661,0.67,0.679,0.691,0.714,0.743,0.789,0.818,0.83,0.844,0.9,0.928,0.928,0.928,0.928],\"y\":[0.014285714285714285,0.014285714285714285,0.014285714285714285,0.014285714285714285,0.014285714285714285,0.014285714285714285,0.014285714285714285,0.014285714285714285,0.014285714285714285,0.014285714285714285,0.014285714285714285,0.014285714285714285,0.014285714285714285,0.014285714285714285,0.014285714285714285,0.014285714285714285,0.014285714285714285,0.014285714285714285,0.014285714285714285,0.014285714285714285,0.014285714285714285,0.014285714285714285,0.014285714285714285,0.014285714285714285,0.014285714285714285,0.014285714285714285,0.014285714285714285,0.014285714285714285,0.014285714285714285,0.014285714285714285,0.014285714285714285,0.014285714285714285,0.014285714285714285,0.014285714285714285,0.014285714285714285,0.014285714285714285,0.014285714285714285,0.014285714285714285,0.014285714285714285,0.014285714285714285,0.014285714285714285,0.014285714285714285,0.014285714285714285,0.014285714285714285,0.014285714285714285,0.014285714285714285,0.014285714285714285,0.014285714285714285,0.014285714285714285,0.014285714285714285,0.014285714285714285,0.014285714285714285,0.014285714285714285,0.014285714285714285,0.014285714285714285,0.014285714285714285,0.02857142857142857,0.02857142857142857,0.02857142857142857,0.02857142857142857,0.02857142857142857,0.02857142857142857,0.02857142857142857,0.02857142857142857,0.02857142857142857,0.02857142857142857,0.02857142857142857,0.02857142857142857,0.02857142857142857,0.02857142857142857,0.02857142857142857,0.02857142857142857,0.02857142857142857,0.02857142857142857,0.02857142857142857,0.02857142857142857,0.02857142857142857,0.02857142857142857,0.02857142857142857,0.02857142857142857,0.02857142857142857,0.02857142857142857,0.02857142857142857,0.02857142857142857,0.02857142857142857,0.02857142857142857,0.02857142857142857,0.02857142857142857,0.02857142857142857,0.04285714285714286,0.04285714285714286,0.04285714285714286,0.04285714285714286,0.04285714285714286,0.04285714285714286,0.04285714285714286,0.04285714285714286,0.04285714285714286,0.04285714285714286,0.04285714285714286,0.04285714285714286,0.04285714285714286,0.05714285714285714,0.05714285714285714,0.05714285714285714,0.05714285714285714,0.05714285714285714,0.05714285714285714,0.05714285714285714,0.05714285714285714,0.05714285714285714,0.05714285714285714,0.05714285714285714,0.05714285714285714,0.05714285714285714,0.05714285714285714,0.05714285714285714,0.05714285714285714,0.05714285714285714,0.05714285714285714,0.05714285714285714,0.05714285714285714,0.05714285714285714,0.05714285714285714,0.05714285714285714,0.05714285714285714,0.05714285714285714,0.05714285714285714,0.05714285714285714,0.05714285714285714,0.05714285714285714,0.05714285714285714,0.05714285714285714,0.07142857142857142,0.07142857142857142,0.07142857142857142,0.08571428571428572,0.08571428571428572,0.08571428571428572,0.08571428571428572,0.08571428571428572,0.08571428571428572,0.08571428571428572,0.08571428571428572,0.08571428571428572,0.08571428571428572,0.08571428571428572,0.08571428571428572,0.1,0.1,0.1,0.11428571428571428,0.11428571428571428,0.11428571428571428,0.11428571428571428,0.11428571428571428,0.11428571428571428,0.11428571428571428,0.11428571428571428,0.11428571428571428,0.11428571428571428,0.11428571428571428,0.11428571428571428,0.11428571428571428,0.11428571428571428,0.12857142857142856,0.12857142857142856,0.12857142857142856,0.12857142857142856,0.12857142857142856,0.12857142857142856,0.12857142857142856,0.12857142857142856,0.12857142857142856,0.14285714285714285,0.14285714285714285,0.15714285714285714,0.15714285714285714,0.17142857142857143,0.2,0.21428571428571427,0.21428571428571427,0.21428571428571427,0.21428571428571427,0.21428571428571427,0.22857142857142856,0.22857142857142856,0.22857142857142856,0.24285714285714285,0.2571428571428571,0.2571428571428571,0.2571428571428571,0.2714285714285714,0.2714285714285714,0.2714285714285714,0.2714285714285714,0.2714285714285714,0.2714285714285714,0.2857142857142857,0.2857142857142857,0.32857142857142857,0.32857142857142857,0.32857142857142857,0.32857142857142857,0.32857142857142857,0.32857142857142857,0.32857142857142857,0.32857142857142857,0.34285714285714286,0.35714285714285715,0.37142857142857144,0.37142857142857144,0.37142857142857144,0.4,0.4,0.42857142857142855,0.42857142857142855,0.42857142857142855,0.42857142857142855,0.42857142857142855,0.42857142857142855,0.42857142857142855,0.4714285714285714,0.4857142857142857,0.5142857142857142,0.5142857142857142,0.5142857142857142,0.5142857142857142,0.5142857142857142,0.5428571428571428,0.5428571428571428,0.5571428571428572,0.5714285714285714,0.6285714285714286,0.6285714285714286,0.6285714285714286,0.6857142857142857,0.7142857142857143,0.7571428571428571,0.8,0.8142857142857143,0.8142857142857143,0.8142857142857143,0.8142857142857143,0.8142857142857143,0.8142857142857143,0.8142857142857143,0.8285714285714286,0.8285714285714286,0.8428571428571429,0.8428571428571429,0.8571428571428571,0.8714285714285714,0.8857142857142857,0.8857142857142857,0.9,0.9142857142857143,0.9428571428571428,0.9714285714285714,0.9714285714285714,0.9857142857142858,1.0,1.0,1.0,1.0,1.0,1.0,1.0,1.0,1.0,1.0,1.0,1.0,1.0,1.0]}},\"id\":\"c62d8ab5-fa2c-476f-9a65-4b9ffb94202d\",\"type\":\"ColumnDataSource\"},{\"attributes\":{},\"id\":\"45137734-10a1-43d0-a87e-e63e827048cc\",\"type\":\"BasicTicker\"}],\"root_ids\":[\"f9e3e09a-b442-4f95-a37b-0bcc1c1972c7\"]},\"title\":\"Bokeh Application\",\"version\":\"0.11.1\"}};\n",
       "            var render_items = [{\"docid\":\"feb3119c-d180-4e2c-acd8-86bc09a734a2\",\"elementid\":\"9d4d88cd-eb49-4d94-b032-d660f5a8403c\",\"modelid\":\"f9e3e09a-b442-4f95-a37b-0bcc1c1972c7\",\"notebook_comms_target\":\"b55fec7b-7ae9-4039-b086-fac8506f86c0\"}];\n",
       "            \n",
       "            Bokeh.embed.embed_items(docs_json, render_items);\n",
       "        });\n",
       "      },\n",
       "      function(Bokeh) {\n",
       "      }\n",
       "    ];\n",
       "  \n",
       "    function run_inline_js() {\n",
       "      for (var i = 0; i < inline_js.length; i++) {\n",
       "        inline_js[i](window.Bokeh);\n",
       "      }\n",
       "    }\n",
       "  \n",
       "    if (window._bokeh_is_loading === 0) {\n",
       "      console.log(\"Bokeh: BokehJS loaded, going straight to plotting\");\n",
       "      run_inline_js();\n",
       "    } else {\n",
       "      load_libs(js_urls, function() {\n",
       "        console.log(\"Bokeh: BokehJS plotting callback run at\", now());\n",
       "        run_inline_js();\n",
       "      });\n",
       "    }\n",
       "  }(this));\n",
       "</script>"
      ]
     },
     "metadata": {},
     "output_type": "display_data"
    },
    {
     "data": {
      "text/html": [
       "<p><code>&lt;Bokeh Notebook handle for <strong>In[6]</strong>&gt;</code></p>"
      ],
      "text/plain": [
       "<bokeh.io._CommsHandle at 0x7ff0140967f0>"
      ]
     },
     "execution_count": 6,
     "metadata": {},
     "output_type": "execute_result"
    }
   ],
   "source": [
    "p = figure(x_range=(0,1), y_range=(0,1.001))\n",
    "p.title = \"ROC Curve for Dataset 4.2\"\n",
    "p.xaxis.axis_label = \"α\"\n",
    "p.yaxis.axis_label = \"1-ß\"\n",
    "\n",
    "def drawRoc(rocPoints, p, c, name):\n",
    "\n",
    "    xp = list(map(lambda x : x[0], rocPoints))\n",
    "    yp = list(map(lambda x : x[1], rocPoints))\n",
    "\n",
    "    p.line(xp,yp, line_color=c, legend=name)\n",
    "    # p.scatter(xp,yp, marker=\"x\", size=10, color=c)\n",
    "\n",
    "p.line([0,1],[0,1],color=\"black\")\n",
    "\n",
    "simpleRoc = getRocPoints(userScores_simple)\n",
    "\n",
    "drawRoc(simpleRoc, p, \"blue\", \"Simple\")\n",
    "\n",
    "print(\"  Simple features AUC: \", getAUC(simpleRoc))\n",
    "\n",
    "show(p)"
   ]
  },
  {
   "cell_type": "code",
   "execution_count": null,
   "metadata": {
    "collapsed": true
   },
   "outputs": [],
   "source": []
  }
 ],
 "metadata": {
  "kernelspec": {
   "display_name": "Python 3",
   "language": "python",
   "name": "python3"
  },
  "language_info": {
   "codemirror_mode": {
    "name": "ipython",
    "version": 3
   },
   "file_extension": ".py",
   "mimetype": "text/x-python",
   "name": "python",
   "nbconvert_exporter": "python",
   "pygments_lexer": "ipython3",
   "version": "3.5.1"
  }
 },
 "nbformat": 4,
 "nbformat_minor": 0
}
